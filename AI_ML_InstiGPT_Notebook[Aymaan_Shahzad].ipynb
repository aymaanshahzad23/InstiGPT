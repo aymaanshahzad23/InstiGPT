{
  "cells": [
    {
      "cell_type": "markdown",
      "id": "53236019",
      "metadata": {
        "id": "53236019"
      },
      "source": [
        "# InstiGPT Assignment using Langchain & LLMs"
      ]
    },
    {
      "cell_type": "markdown",
      "id": "jlmezsdp4mbX",
      "metadata": {
        "id": "jlmezsdp4mbX"
      },
      "source": [
        "## Installing Required Python Libraries\n"
      ]
    },
    {
      "cell_type": "code",
      "execution_count": null,
      "id": "Fa2l9YKxwwGb",
      "metadata": {
        "id": "Fa2l9YKxwwGb"
      },
      "outputs": [],
      "source": [
        "%pip install PyPDF2\n",
        "%pip install langchain\n",
        "%pip install typing_extensions\n",
        "%pip install openai\n",
        "%pip install tiktoken\n",
        "%pip install faiss-cpu"
      ]
    },
    {
      "cell_type": "markdown",
      "id": "1d4f3944",
      "metadata": {
        "id": "1d4f3944"
      },
      "source": [
        "### Importing Requirements\n"
      ]
    },
    {
      "cell_type": "code",
      "execution_count": null,
      "id": "b837232c-2e4a-4613-ab07-7757856f9f31",
      "metadata": {
        "id": "b837232c-2e4a-4613-ab07-7757856f9f31"
      },
      "outputs": [],
      "source": [
        "import os\n",
        "import getpass"
      ]
    },
    {
      "cell_type": "markdown",
      "id": "f460e80c",
      "metadata": {
        "id": "f460e80c"
      },
      "source": [
        "## Fitting API Key In the Model\n"
      ]
    },
    {
      "cell_type": "code",
      "execution_count": null,
      "id": "009e3f20",
      "metadata": {
        "colab": {
          "base_uri": "https://localhost:8080/"
        },
        "id": "009e3f20",
        "outputId": "b28cf2d6-2d7c-4987-8ae2-ecaf8512b123"
      },
      "outputs": [],
      "source": [
        "os.environ['OPENAI_API_KEY'] = getpass.getpass('OpenAI API Key:')"
      ]
    },
    {
      "cell_type": "markdown",
      "id": "d949ac3d",
      "metadata": {
        "id": "d949ac3d"
      },
      "source": [
        "### Reading the UG Rulebook File \n"
      ]
    },
    {
      "cell_type": "code",
      "execution_count": null,
      "id": "94e6b4ad",
      "metadata": {
        "id": "94e6b4ad"
      },
      "outputs": [],
      "source": [
        "from PyPDF2 import PdfReader\n",
        "from langchain.vectorstores import FAISS\n",
        "from langchain.text_splitter import CharacterTextSplitter\n",
        "from typing_extensions import Concatenate\n",
        "from langchain.embeddings.openai import OpenAIEmbeddings\n",
        "pdfreader = PdfReader('ugrulebook.pdf')\n",
        "\n",
        "raw_text = ''\n",
        "for i, page in enumerate(pdfreader.pages):\n",
        "    content = page.extract_text()\n",
        "    if content:\n",
        "        raw_text+=content\n",
        "\n",
        "text_splitter = CharacterTextSplitter(\n",
        "    separator = \"\\n\",\n",
        "    chunk_size = 800,\n",
        "    chunk_overlap=100,\n",
        "    length_function = len,\n",
        ")\n",
        "texts= text_splitter.split_text(raw_text)"
      ]
    },
    {
      "cell_type": "code",
      "execution_count": null,
      "id": "b52ce362",
      "metadata": {
        "id": "b52ce362"
      },
      "outputs": [],
      "source": [
        "embeddings = OpenAIEmbeddings()\n",
        "document_search = FAISS.from_texts(texts, embeddings)"
      ]
    },
    {
      "cell_type": "code",
      "execution_count": null,
      "id": "3ff06653",
      "metadata": {
        "id": "3ff06653"
      },
      "outputs": [],
      "source": [
        "from langchain.chains.question_answering import load_qa_chain\n",
        "from langchain.llms import OpenAI\n",
        "chain = load_qa_chain(OpenAI(), chain_type=\"stuff\")"
      ]
    },
    {
      "cell_type": "markdown",
      "id": "J_wY-FH1zaGr",
      "metadata": {
        "id": "J_wY-FH1zaGr"
      },
      "source": [
        "### Taking Query through user input"
      ]
    },
    {
      "cell_type": "code",
      "execution_count": null,
      "id": "1f93f16f",
      "metadata": {
        "id": "1f93f16f"
      },
      "outputs": [],
      "source": [
        "def QnA():\n",
        "  print(\"How may I help you? \")\n",
        "  query = input()\n",
        "  docs = document_search.similarity_search(query)\n",
        "  print(chain.run(input_documents=docs, question = query))"
      ]
    },
    {
      "cell_type": "code",
      "execution_count": null,
      "id": "rAh-v2lp9Mr4",
      "metadata": {
        "colab": {
          "base_uri": "https://localhost:8080/",
          "height": 89
        },
        "id": "rAh-v2lp9Mr4",
        "outputId": "f8157d42-11d3-433b-efa4-2ad7dca0a38d"
      },
      "outputs": [],
      "source": [
        "QnA()"
      ]
    }
  ],
  "metadata": {
    "colab": {
      "provenance": []
    },
    "kernelspec": {
      "display_name": "Python 3 (ipykernel)",
      "language": "python",
      "name": "python3"
    },
    "language_info": {
      "codemirror_mode": {
        "name": "ipython",
        "version": 3
      },
      "file_extension": ".py",
      "mimetype": "text/x-python",
      "name": "python",
      "nbconvert_exporter": "python",
      "pygments_lexer": "ipython3",
      "version": "3.11.4"
    }
  },
  "nbformat": 4,
  "nbformat_minor": 5
}
